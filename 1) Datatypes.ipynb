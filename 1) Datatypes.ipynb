{
 "cells": [
  {
   "cell_type": "markdown",
   "id": "5c7c22a0",
   "metadata": {},
   "source": [
    "# Datatypes\n",
    "## Mutable : List, Dictionary, Byte array\n",
    "## Immutable : Int, Float, Complex, String, Tuple, Set"
   ]
  },
  {
   "cell_type": "markdown",
   "id": "9836fda6",
   "metadata": {},
   "source": [
    "***"
   ]
  },
  {
   "cell_type": "markdown",
   "id": "1684a9cc",
   "metadata": {},
   "source": [
    "# Variables"
   ]
  },
  {
   "cell_type": "code",
   "execution_count": 5,
   "id": "813a3f00",
   "metadata": {},
   "outputs": [
    {
     "name": "stdout",
     "output_type": "stream",
     "text": [
      "karthik\n"
     ]
    }
   ],
   "source": [
    "list1=['pavan','Dhanush','karthik']\n",
    "a,b,c=list1\n",
    "print(c)"
   ]
  },
  {
   "cell_type": "markdown",
   "id": "5aab10be",
   "metadata": {},
   "source": [
    "# Int"
   ]
  },
  {
   "cell_type": "code",
   "execution_count": 9,
   "id": "8ae33d23",
   "metadata": {
    "scrolled": true
   },
   "outputs": [
    {
     "name": "stdout",
     "output_type": "stream",
     "text": [
      "5\n",
      "<class 'int'>\n",
      "<class 'int'>\n",
      "(-567+0j)\n"
     ]
    }
   ],
   "source": [
    "a=5\n",
    "b=1234567890\n",
    "c=-567\n",
    "print(a)\n",
    "print(type (c))\n",
    "print(type(b))\n",
    "x=complex(c)\n",
    "print(x)"
   ]
  },
  {
   "cell_type": "code",
   "execution_count": 1,
   "id": "73663cb5",
   "metadata": {},
   "outputs": [
    {
     "name": "stdout",
     "output_type": "stream",
     "text": [
      "100\n"
     ]
    }
   ],
   "source": [
    "#abs : converts negetive numbers into positive\n",
    "print(abs(-100))"
   ]
  },
  {
   "cell_type": "code",
   "execution_count": 2,
   "id": "88c905e0",
   "metadata": {
    "scrolled": true
   },
   "outputs": [
    {
     "name": "stdout",
     "output_type": "stream",
     "text": [
      "3.10.9 | packaged by Anaconda, Inc. | (main, Mar  1 2023, 18:18:15) [MSC v.1916 64 bit (AMD64)]\n"
     ]
    }
   ],
   "source": [
    "import sys\n",
    "print(sys.version)"
   ]
  },
  {
   "cell_type": "code",
   "execution_count": 11,
   "id": "2c2d25ff",
   "metadata": {
    "scrolled": true
   },
   "outputs": [
    {
     "name": "stdout",
     "output_type": "stream",
     "text": [
      "7\n"
     ]
    }
   ],
   "source": [
    "import random\n",
    "print(random.randrange(1,10))"
   ]
  },
  {
   "cell_type": "code",
   "execution_count": 12,
   "id": "b9706510",
   "metadata": {},
   "outputs": [
    {
     "data": {
      "text/plain": [
       "7"
      ]
     },
     "execution_count": 12,
     "metadata": {},
     "output_type": "execute_result"
    }
   ],
   "source": [
    "int('7')"
   ]
  },
  {
   "cell_type": "markdown",
   "id": "cfc18729",
   "metadata": {},
   "source": [
    "# Float"
   ]
  },
  {
   "cell_type": "code",
   "execution_count": 5,
   "id": "e0da0596",
   "metadata": {},
   "outputs": [
    {
     "name": "stdout",
     "output_type": "stream",
     "text": [
      "5.5\n",
      "<class 'float'>\n"
     ]
    }
   ],
   "source": [
    "a=5.5\n",
    "print(a)\n",
    "print(type(a))"
   ]
  },
  {
   "cell_type": "code",
   "execution_count": 10,
   "id": "0d8df13f",
   "metadata": {},
   "outputs": [
    {
     "name": "stdout",
     "output_type": "stream",
     "text": [
      "20\n",
      "20.39\n"
     ]
    }
   ],
   "source": [
    "# round\n",
    "print(round(20.38958))\n",
    "print(round(20.38948,2))\n"
   ]
  },
  {
   "cell_type": "markdown",
   "id": "15f39d17",
   "metadata": {},
   "source": [
    "# Complex"
   ]
  },
  {
   "cell_type": "code",
   "execution_count": 6,
   "id": "c26c12b0",
   "metadata": {},
   "outputs": [
    {
     "name": "stdout",
     "output_type": "stream",
     "text": [
      "(5+2j)\n",
      "<class 'complex'>\n"
     ]
    }
   ],
   "source": [
    "a=5+2j\n",
    "print(a)\n",
    "print(type(a))"
   ]
  },
  {
   "cell_type": "markdown",
   "id": "a73ea8b1",
   "metadata": {},
   "source": [
    "# String\n",
    "#### collection of one or more characters put in a single or double or triple quote\n",
    "#### multiline strings can be denoted using triple quotes, you cannot write a stirng more than one line using double quotes\n",
    "#### string is immutable, which means if you want to change Pavan to Pawan in the below example, you cant, you will have to assign it again in a different variable or change it in the above declared variable. you cannot alter any thing in a already declared variable  "
   ]
  },
  {
   "cell_type": "code",
   "execution_count": 13,
   "id": "9c6ace67",
   "metadata": {},
   "outputs": [
    {
     "name": "stdout",
     "output_type": "stream",
     "text": [
      "Pavan is Hardworking\n",
      ".\n",
      ".\n",
      ".\n",
      ".\n",
      "and he works very good\n"
     ]
    }
   ],
   "source": [
    "a=\"\"\"Pavan is Hardworking\n",
    ".\n",
    ".\n",
    ".\n",
    ".\n",
    "and he works very good\"\"\"\n",
    "print(a)"
   ]
  },
  {
   "cell_type": "code",
   "execution_count": 14,
   "id": "62f15cd5",
   "metadata": {},
   "outputs": [
    {
     "name": "stdout",
     "output_type": "stream",
     "text": [
      "10\n",
      "<class 'str'>\n"
     ]
    }
   ],
   "source": [
    "a='10'\n",
    "print (a)\n",
    "print(type(a))"
   ]
  },
  {
   "cell_type": "code",
   "execution_count": 3,
   "id": "0d0af250",
   "metadata": {},
   "outputs": [
    {
     "name": "stdout",
     "output_type": "stream",
     "text": [
      "<class 'float'>\n",
      "<class 'int'>\n",
      "<class 'str'>\n"
     ]
    }
   ],
   "source": [
    "a=2.0\n",
    "print(type(a))\n",
    "x=int(a)\n",
    "print(type (x))\n",
    "y=str(a)\n",
    "print(type(y))"
   ]
  },
  {
   "cell_type": "code",
   "execution_count": 12,
   "id": "2332266c",
   "metadata": {},
   "outputs": [
    {
     "name": "stdout",
     "output_type": "stream",
     "text": [
      "i\n",
      "m\n",
      "11\n"
     ]
    }
   ],
   "source": [
    "#can acces a single character on the string by typing the index no in square brackets\n",
    "string= \"my name is pavan and live in bangalore\"\n",
    "print(string[8])\n",
    "print(string[0])\n",
    "print(string.index(\"pavan and \"))"
   ]
  },
  {
   "cell_type": "markdown",
   "id": "48f6ab8e",
   "metadata": {},
   "source": [
    "# List\n",
    "#### is an ordered sequence of items;  mutable;  always written in square brackets"
   ]
  },
  {
   "cell_type": "code",
   "execution_count": 13,
   "id": "005fd4b9",
   "metadata": {
    "scrolled": true
   },
   "outputs": [
    {
     "name": "stdout",
     "output_type": "stream",
     "text": [
      "12345abcdeapple\n",
      "['1', '2', '3', '4', '5', 'a', 'b', 'c', 'd', 'e', 'a', 'p', 'p', 'l', 'e']\n"
     ]
    }
   ],
   "source": [
    "a=list(input())\n",
    "print(a)"
   ]
  },
  {
   "cell_type": "code",
   "execution_count": 18,
   "id": "53cfd937",
   "metadata": {},
   "outputs": [
    {
     "name": "stdout",
     "output_type": "stream",
     "text": [
      "[1,2,3,4,'apple','w']\n",
      "[1, 2, 3, 4, 'apple', 'w']\n"
     ]
    }
   ],
   "source": [
    "a=eval(input())\n",
    "print(a)"
   ]
  },
  {
   "cell_type": "code",
   "execution_count": 40,
   "id": "9e3d4dd4",
   "metadata": {},
   "outputs": [
    {
     "name": "stdout",
     "output_type": "stream",
     "text": [
      "[1, 5.5, 'ws']\n",
      "<class 'list'>\n"
     ]
    }
   ],
   "source": [
    "a=[1,      \n",
    "                 5.5,'ws']\n",
    "print(a)\n",
    "print(type(a))"
   ]
  },
  {
   "cell_type": "code",
   "execution_count": 46,
   "id": "3304f502",
   "metadata": {},
   "outputs": [
    {
     "name": "stdout",
     "output_type": "stream",
     "text": [
      "[1, 5.0, 'a', '@pavan']\n",
      "[1, 5.0, 'a', 10]\n"
     ]
    }
   ],
   "source": [
    "#How to change value in list\n",
    "a=[1, 5.0, 'a', '@pavan']\n",
    "print(a)\n",
    "a[3]=10\n",
    "print(a)\n"
   ]
  },
  {
   "cell_type": "markdown",
   "id": "c28cba8c",
   "metadata": {},
   "source": [
    "# Tuple\n",
    "#### immutable;  in round brackets;  can be accessed faster compared to list"
   ]
  },
  {
   "cell_type": "code",
   "execution_count": 48,
   "id": "cd5bc95a",
   "metadata": {},
   "outputs": [
    {
     "name": "stdout",
     "output_type": "stream",
     "text": [
      "(10, 20.5, 'hello')\n",
      "<class 'tuple'>\n"
     ]
    }
   ],
   "source": [
    "a=(10,20.5,'hello')\n",
    "print(a)\n",
    "print(type(a))"
   ]
  },
  {
   "cell_type": "markdown",
   "id": "edb5fdf4",
   "metadata": {},
   "source": [
    "# Dictionary \n",
    "#### unordered collection of key value pairs;  { };  (key:value)"
   ]
  },
  {
   "cell_type": "code",
   "execution_count": 4,
   "id": "7db80273",
   "metadata": {},
   "outputs": [
    {
     "name": "stdout",
     "output_type": "stream",
     "text": [
      "{'name': 'apple', 'type': 'fruit'}\n",
      "<class 'dict'>\n",
      "apple\n"
     ]
    }
   ],
   "source": [
    "a={'name':'apple',\n",
    "  'type':'fruit'}\n",
    "print(a)\n",
    "print(type(a))\n",
    "print(a['name'])"
   ]
  },
  {
   "cell_type": "code",
   "execution_count": 54,
   "id": "8aeddb8e",
   "metadata": {},
   "outputs": [],
   "source": [
    "#how to add or change data inside dict\n"
   ]
  },
  {
   "cell_type": "markdown",
   "id": "c0d24193",
   "metadata": {},
   "source": [
    "# Set \n",
    "#### duplicate elements are considered once only;   immutable; "
   ]
  },
  {
   "cell_type": "code",
   "execution_count": 1,
   "id": "75f22b49",
   "metadata": {},
   "outputs": [
    {
     "name": "stdout",
     "output_type": "stream",
     "text": [
      "{1, 2, 'a'}\n",
      "<class 'set'>\n"
     ]
    }
   ],
   "source": [
    "a={1,2,2,       'a'}\n",
    "print(a)\n",
    "print(type(a))"
   ]
  },
  {
   "cell_type": "code",
   "execution_count": 1,
   "id": "adaf60e6",
   "metadata": {},
   "outputs": [
    {
     "data": {
      "text/plain": [
       "15"
      ]
     },
     "execution_count": 1,
     "metadata": {},
     "output_type": "execute_result"
    }
   ],
   "source": []
  },
  {
   "cell_type": "code",
   "execution_count": null,
   "id": "adb51d6b",
   "metadata": {},
   "outputs": [],
   "source": []
  }
 ],
 "metadata": {
  "kernelspec": {
   "display_name": "Python 3 (ipykernel)",
   "language": "python",
   "name": "python3"
  },
  "language_info": {
   "codemirror_mode": {
    "name": "ipython",
    "version": 3
   },
   "file_extension": ".py",
   "mimetype": "text/x-python",
   "name": "python",
   "nbconvert_exporter": "python",
   "pygments_lexer": "ipython3",
   "version": "3.10.9"
  }
 },
 "nbformat": 4,
 "nbformat_minor": 5
}
