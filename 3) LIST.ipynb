{
 "cells": [
  {
   "cell_type": "markdown",
   "id": "95904e5a",
   "metadata": {},
   "source": [
    "# List "
   ]
  },
  {
   "cell_type": "code",
   "execution_count": 12,
   "id": "04181928",
   "metadata": {},
   "outputs": [],
   "source": [
    "when we want to represent a group of individual elements as a single entity where duplicates are allowed and insertion order is preserved. \n",
    "# duplicates are allowed\n",
    "# square brackets\n",
    "# heterogeneous: combination of different datatypes\n",
    "# mutable\n",
    "# dynamic: can increase or decrease (add/remove) the size\n",
    "# indexing, slicing, insertion order is preserved"
   ]
  },
  {
   "cell_type": "code",
   "execution_count": 2,
   "id": "ef099948",
   "metadata": {},
   "outputs": [
    {
     "name": "stdout",
     "output_type": "stream",
     "text": [
      "[1, 2, 3, 3, 3, 8.2, 'pavan', 'suraj']\n",
      "8.2\n"
     ]
    },
    {
     "data": {
      "text/plain": [
       "list"
      ]
     },
     "execution_count": 2,
     "metadata": {},
     "output_type": "execute_result"
    }
   ],
   "source": [
    "a=[1,2,3,3,3,8.2,\"pavan\",\"suraj\"]\n",
    "print(a)\n",
    "print(a[5])\n",
    "type(a)"
   ]
  },
  {
   "cell_type": "code",
   "execution_count": 17,
   "id": "d00091ac",
   "metadata": {},
   "outputs": [
    {
     "name": "stdout",
     "output_type": "stream",
     "text": [
      "suraj\n",
      "pavan\n"
     ]
    }
   ],
   "source": [
    "# negetive index\n",
    "a=[1,2,3,3,3,8.2,\"pavan\",\"suraj\"]\n",
    "print(a[-1])\n",
    "print(a[-2])"
   ]
  },
  {
   "cell_type": "code",
   "execution_count": 3,
   "id": "9f95dc77",
   "metadata": {},
   "outputs": [
    {
     "name": "stdout",
     "output_type": "stream",
     "text": [
      "[2, 3, 8.2]\n",
      "[2, 3, 3, 3, 8.2]\n",
      "[1, 2, 3, 3, 3, 8.2]\n"
     ]
    }
   ],
   "source": [
    "# can specify from where to where\n",
    "# [from : till : every nth index]\n",
    "a=[1,2,3,3,3,8.2,\"pavan\",\"suraj\"]\n",
    "print(a[1:6:2])\n",
    "print(a[1:6])\n",
    "print(a[:6])"
   ]
  },
  {
   "cell_type": "code",
   "execution_count": 5,
   "id": "2272ed44",
   "metadata": {},
   "outputs": [
    {
     "data": {
      "text/plain": [
       "True"
      ]
     },
     "execution_count": 5,
     "metadata": {},
     "output_type": "execute_result"
    }
   ],
   "source": [
    "# to check if a single item is there in the list\n",
    "a=[\"apple\",3,4,5,\"mango\"]\n",
    "'apple' in a"
   ]
  },
  {
   "cell_type": "code",
   "execution_count": 14,
   "id": "0b3c16c7",
   "metadata": {},
   "outputs": [
    {
     "name": "stdout",
     "output_type": "stream",
     "text": [
      "['apple', 10.1, 5, 'mango']\n",
      "\n",
      "['apple', 10.1]\n"
     ]
    }
   ],
   "source": [
    "# change the list items\n",
    "a=[\"apple\",3,4,5,\"mango\"]\n",
    "a[1:3]=[10.1]    #a[1],a[2] gets replaced\n",
    "print(a)\n",
    "\n",
    "print()\n",
    "a=[\"apple\",3,4,5,\"mango\"]\n",
    "a[1:5]=[10.1]      #a[1],a[2],a[3],a[4] gets replaced\n",
    "print(a)"
   ]
  },
  {
   "cell_type": "code",
   "execution_count": 2,
   "id": "bbaeea6b",
   "metadata": {},
   "outputs": [
    {
     "name": "stdout",
     "output_type": "stream",
     "text": [
      "a\n",
      "v\n"
     ]
    }
   ],
   "source": [
    "# to acces items of a nested list\n",
    "x=[1,2,'pavan',4,5,[\"a\",'b','c']]\n",
    "print(x[5][0])\n",
    "print(x[2][2])"
   ]
  },
  {
   "cell_type": "markdown",
   "id": "71ceb15b",
   "metadata": {},
   "source": [
    "## how to take an input into a list"
   ]
  },
  {
   "cell_type": "code",
   "execution_count": 3,
   "id": "fbb84808",
   "metadata": {},
   "outputs": [
    {
     "name": "stdout",
     "output_type": "stream",
     "text": [
      "enter list values with \"space\" as a seperatora b c d pavan\n",
      "a b c d pavan\n",
      "<class 'str'>\n",
      "['a', 'b', 'c', 'd', 'pavan']\n",
      "<class 'list'>\n"
     ]
    }
   ],
   "source": [
    "# take input and create a list\n",
    "a=input('enter list values with \"space\" as a seperator')\n",
    "print(a)\n",
    "print(type(a))\n",
    "b=a.split(' ')      #by using split we can comvert a string into list\n",
    "print(b)\n",
    "print(type(b))"
   ]
  },
  {
   "cell_type": "code",
   "execution_count": 14,
   "id": "4b3d5b7f",
   "metadata": {
    "scrolled": true
   },
   "outputs": [
    {
     "name": "stdout",
     "output_type": "stream",
     "text": [
      "1\n",
      "2\n",
      "3\n",
      "a\n",
      "s\n",
      "d\n",
      "f\n",
      "3\n",
      "2\n",
      "3\n",
      "['1', '2', '3', 'a', 's', 'd', 'f', '3', '2', '3']\n"
     ]
    }
   ],
   "source": [
    "# if you are using while true there should be a if condition at the end of body of loop orelse the loop will go on for infinite times\n",
    "l=[]\n",
    "while True:\n",
    "    l.append(input())\n",
    "    if len(l)==10:\n",
    "        break\n",
    "print(l)"
   ]
  },
  {
   "cell_type": "markdown",
   "id": "0f5a42d8",
   "metadata": {},
   "source": []
  },
  {
   "cell_type": "markdown",
   "id": "3ca6f6f2",
   "metadata": {},
   "source": [
    "# .reverse"
   ]
  },
  {
   "cell_type": "code",
   "execution_count": 29,
   "id": "4144ac23",
   "metadata": {},
   "outputs": [
    {
     "name": "stdout",
     "output_type": "stream",
     "text": [
      "['suraj', 'pavan', 8.2, 3, 3, 3, 2, 1]\n"
     ]
    }
   ],
   "source": [
    "a=[1,2,3,3,3,8.2,\"pavan\",\"suraj\"]\n",
    "a.reverse()\n",
    "print(a)"
   ]
  },
  {
   "cell_type": "markdown",
   "id": "8898b0b5",
   "metadata": {},
   "source": [
    "# .sort"
   ]
  },
  {
   "cell_type": "code",
   "execution_count": 4,
   "id": "02335181",
   "metadata": {},
   "outputs": [
    {
     "name": "stdout",
     "output_type": "stream",
     "text": [
      "[2, 3, 3, 8.2, 10, 300]\n"
     ]
    }
   ],
   "source": [
    "# sort doesnt work when there is mix of string and int in a single list \n",
    "a=[10,2,300,3,3,8.2]\n",
    "a.sort()\n",
    "print(a)     #cant use sort function with print at once"
   ]
  },
  {
   "cell_type": "code",
   "execution_count": 9,
   "id": "0dcc9792",
   "metadata": {},
   "outputs": [
    {
     "name": "stdout",
     "output_type": "stream",
     "text": [
      "[300, 10, 8.2, 3, 3, 2]\n"
     ]
    }
   ],
   "source": [
    "# decending order\n",
    "a=[10,2,300,3,3,8.2]\n",
    "a.sort(reverse = True)  #instead of true we can use any no. but false is always 0\n",
    "print(a)"
   ]
  },
  {
   "cell_type": "code",
   "execution_count": 34,
   "id": "1f19562f",
   "metadata": {},
   "outputs": [
    {
     "name": "stdout",
     "output_type": "stream",
     "text": [
      "['Kiwi', 'Orange', 'banana', 'cHERRY']\n"
     ]
    }
   ],
   "source": [
    "# first preference to the fist capital letter then alphabetical order \n",
    "thislist = [\"banana\", \"Orange\", \"Kiwi\", \"cHERRY\"]\n",
    "thislist.sort()\n",
    "print(thislist)\n"
   ]
  },
  {
   "cell_type": "code",
   "execution_count": 38,
   "id": "2b0e1f5c",
   "metadata": {
    "scrolled": true
   },
   "outputs": [
    {
     "name": "stdout",
     "output_type": "stream",
     "text": [
      "['banana', 'cerry', 'Kiwi', 'Orange']\n"
     ]
    }
   ],
   "source": [
    "# first letter lower will come first\n",
    "thislist = [\"banana\", \"Orange\", \"Kiwi\", \"cerry\"]\n",
    "thislist.sort(key = str.lower)\n",
    "print(thislist)"
   ]
  },
  {
   "cell_type": "markdown",
   "id": "dd3aec8a",
   "metadata": {},
   "source": [
    "## custom sort using function"
   ]
  },
  {
   "cell_type": "code",
   "execution_count": 64,
   "id": "fcbf9548",
   "metadata": {
    "scrolled": true
   },
   "outputs": [
    {
     "name": "stdout",
     "output_type": "stream",
     "text": [
      "['apple', 'banana', 'hello00000']\n"
     ]
    }
   ],
   "source": [
    "a=[\"hello00000\",\"apple\",\"banana\"]\n",
    "def c_sort(value):\n",
    "    return len(value)\n",
    "       \n",
    "a.sort(key=c_sort)\n",
    "print(a)"
   ]
  },
  {
   "cell_type": "code",
   "execution_count": 57,
   "id": "22ddf3bd",
   "metadata": {},
   "outputs": [
    {
     "name": "stdout",
     "output_type": "stream",
     "text": [
      "['hello00000', 'banana', 'apple']\n"
     ]
    }
   ],
   "source": [
    "a=[\"hello00000\",\"apple\",\"banana\"]\n",
    "def c_sort(value):\n",
    "    return len(value)\n",
    "a.sort(key=c_sort,reverse=1)\n",
    "print(a)"
   ]
  },
  {
   "cell_type": "markdown",
   "id": "cd6043e7",
   "metadata": {},
   "source": [
    "# len"
   ]
  },
  {
   "cell_type": "code",
   "execution_count": 2,
   "id": "2ecb542e",
   "metadata": {},
   "outputs": [
    {
     "name": "stdout",
     "output_type": "stream",
     "text": [
      "8\n"
     ]
    }
   ],
   "source": [
    "a=[1,2,3,3,3,8.2,\"pavan\",\"suraj\"]   #len function doesnt work for int and float\n",
    "print(len(a))"
   ]
  },
  {
   "cell_type": "markdown",
   "id": "dfccbab2",
   "metadata": {},
   "source": [
    "# .append"
   ]
  },
  {
   "cell_type": "code",
   "execution_count": 2,
   "id": "ee3f5bf1",
   "metadata": {},
   "outputs": [
    {
     "name": "stdout",
     "output_type": "stream",
     "text": [
      "[1, 2, 3, 3, 3, 8.2, 'pavan', 'suraj', [45, 98], 'mango']\n"
     ]
    }
   ],
   "source": [
    "a=[1,2,3,3,3,8.2,\"pavan\",\"suraj\"]\n",
    "a.append([45,98])\n",
    "a.append(\"mango\")\n",
    "print(a)"
   ]
  },
  {
   "cell_type": "code",
   "execution_count": 7,
   "id": "9c504814",
   "metadata": {},
   "outputs": [
    {
     "name": "stdout",
     "output_type": "stream",
     "text": [
      "['a', 'b', 'c', 1, 2, 3]\n"
     ]
    }
   ],
   "source": [
    "# appending a new list to existing list\n",
    "list1 = [\"a\", \"b\" , \"c\"]\n",
    "list2 = [1, 2, 3]\n",
    "\n",
    "for i in list2:\n",
    "  list1.append(i)\n",
    "\n",
    "print(list1)"
   ]
  },
  {
   "cell_type": "markdown",
   "id": "0281d032",
   "metadata": {},
   "source": [
    "# .insert"
   ]
  },
  {
   "cell_type": "code",
   "execution_count": 24,
   "id": "7a67ce7e",
   "metadata": {},
   "outputs": [
    {
     "name": "stdout",
     "output_type": "stream",
     "text": [
      "['p', 2, 3, 67, 3, 3, 8.2, 'pavan', 'suraj']\n",
      "['p', 2, 3, 3, 3, 8.2, 'pavan', 'suraj', 67]\n"
     ]
    }
   ],
   "source": [
    "# to add in particular position \n",
    "a=['p',2,3,3,3,8.2,\"pavan\",\"suraj\"]\n",
    "a.insert(3,67)        \n",
    "print(a)\n",
    "\n",
    "a=['p',2,3,3,3,8.2,\"pavan\",\"suraj\"]\n",
    "a.insert(16,67)        # if index value is out of reach it ll add to the end\n",
    "print(a)\n",
    "\n"
   ]
  },
  {
   "cell_type": "markdown",
   "id": "aee90d23",
   "metadata": {},
   "source": [
    "# .extend"
   ]
  },
  {
   "cell_type": "code",
   "execution_count": 51,
   "id": "3d182001",
   "metadata": {},
   "outputs": [
    {
     "name": "stdout",
     "output_type": "stream",
     "text": [
      "[1, 2, 3, 3, 3, 8.2, 'pavan', 'suraj', 10009, 178881, 19887800]\n",
      "[1, 10009, 178881, 19887800, 3, 8.2, 'pavan', 'suraj', 10009, 178881, 19887800]\n"
     ]
    }
   ],
   "source": [
    "# by extend you can add multiple values, but by append you can add only one\n",
    "a=[1,2,3,3,3,8.2,\"pavan\",\"suraj\"]\n",
    "a.extend([10009,178881,19887800])\n",
    "print(a)\n",
    "a[1:4]=[10009,178881,19887800]\n",
    "print(a)"
   ]
  },
  {
   "cell_type": "code",
   "execution_count": 25,
   "id": "a3009b9f",
   "metadata": {},
   "outputs": [
    {
     "name": "stdout",
     "output_type": "stream",
     "text": [
      "['a', 'b', 'c', 1, 2, 3]\n",
      "[1, 2, 3]\n"
     ]
    }
   ],
   "source": [
    "# extend a new list to existing list\n",
    "list1 = [\"a\", \"b\" , \"c\"]\n",
    "list2 = [1, 2, 3]\n",
    "\n",
    "list1.extend(list2)\n",
    "print(list1)\n",
    "print(list2)\n"
   ]
  },
  {
   "cell_type": "markdown",
   "id": "a1a42927",
   "metadata": {},
   "source": [
    "# .remove"
   ]
  },
  {
   "cell_type": "markdown",
   "id": "138a3385",
   "metadata": {},
   "source": []
  },
  {
   "cell_type": "code",
   "execution_count": 12,
   "id": "ac172141",
   "metadata": {},
   "outputs": [
    {
     "name": "stdout",
     "output_type": "stream",
     "text": [
      "[1, 2, 4, 3, 'pavan', 'suraj']\n"
     ]
    }
   ],
   "source": [
    "a=[1,2,3,4,3,8.2,\"pavan\",\"suraj\"]\n",
    "a.remove(8.2)\n",
    "a.remove(3)  #only one 3 is removed that to 1st one\n",
    "print(a)"
   ]
  },
  {
   "cell_type": "markdown",
   "id": "7f7684b4",
   "metadata": {},
   "source": [
    "# .pop"
   ]
  },
  {
   "cell_type": "code",
   "execution_count": 36,
   "id": "74d9c7d5",
   "metadata": {},
   "outputs": [
    {
     "name": "stdout",
     "output_type": "stream",
     "text": [
      "[1, 2, 3, 3, 3, 8.2, 'pavan']\n",
      "[1, 3, 3, 3, 8.2, 'pavan']\n"
     ]
    }
   ],
   "source": [
    "#removes the last item\n",
    "#if given any no inside the brackets, then the index position of that no is deleted\n",
    "a=[1,2,3,3,3,8.2,\"pavan\",\"suraj\"]\n",
    "a.pop()\n",
    "print(a)\n",
    "\n",
    "a.pop(1)  \n",
    "print(a)\n",
    "\n",
    "a.pop(12)  #ERROR : index out of range\n",
    "print(a)"
   ]
  },
  {
   "cell_type": "markdown",
   "id": "895f46f0",
   "metadata": {},
   "source": [
    "## del a[ ]"
   ]
  },
  {
   "cell_type": "code",
   "execution_count": 31,
   "id": "2d70d7e7",
   "metadata": {},
   "outputs": [
    {
     "name": "stdout",
     "output_type": "stream",
     "text": [
      "[2, 3, 3, 3, 8.2, 'pavan', 'suraj']\n"
     ]
    }
   ],
   "source": [
    "a=[1,2,3,3,3,8.2,\"pavan\",\"suraj\"]\n",
    "del a[0]\n",
    "print(a)\n",
    "\n",
    "del a\n"
   ]
  },
  {
   "cell_type": "markdown",
   "id": "bca734cb",
   "metadata": {},
   "source": [
    "## .clear"
   ]
  },
  {
   "cell_type": "code",
   "execution_count": 21,
   "id": "7f8a8b9a",
   "metadata": {},
   "outputs": [
    {
     "name": "stdout",
     "output_type": "stream",
     "text": [
      "[]\n"
     ]
    }
   ],
   "source": [
    "a=[1,2,3,3,3,8.2,\"pavan\",\"suraj\"]\n",
    "a.clear()\n",
    "print(a)"
   ]
  },
  {
   "cell_type": "markdown",
   "id": "a4946654",
   "metadata": {},
   "source": [
    "## .search"
   ]
  },
  {
   "cell_type": "code",
   "execution_count": null,
   "id": "03beb6f0",
   "metadata": {},
   "outputs": [],
   "source": []
  },
  {
   "cell_type": "markdown",
   "id": "7479c3f2",
   "metadata": {},
   "source": [
    "## .index\n",
    "shows index number if value is passed"
   ]
  },
  {
   "cell_type": "code",
   "execution_count": 40,
   "id": "9be5a6f1",
   "metadata": {},
   "outputs": [
    {
     "name": "stdout",
     "output_type": "stream",
     "text": [
      "2\n"
     ]
    }
   ],
   "source": [
    "a=[1,2,3,4]\n",
    "print(a.index(3))"
   ]
  },
  {
   "cell_type": "code",
   "execution_count": 42,
   "id": "70d3fa3e",
   "metadata": {
    "scrolled": true
   },
   "outputs": [
    {
     "data": {
      "text/plain": [
       "2"
      ]
     },
     "execution_count": 42,
     "metadata": {},
     "output_type": "execute_result"
    }
   ],
   "source": [
    "a=['hello','beautiful','world',]\n",
    "a.index(\"world\")\n"
   ]
  },
  {
   "cell_type": "code",
   "execution_count": 47,
   "id": "1ab15b63",
   "metadata": {},
   "outputs": [
    {
     "data": {
      "text/plain": [
       "3"
      ]
     },
     "execution_count": 47,
     "metadata": {},
     "output_type": "execute_result"
    }
   ],
   "source": [
    "a=[1,2,3,4,5,6,3]\n",
    "a.index(4)\n"
   ]
  },
  {
   "cell_type": "markdown",
   "id": "e3d74b62",
   "metadata": {},
   "source": [
    "## .count"
   ]
  },
  {
   "cell_type": "code",
   "execution_count": 10,
   "id": "88dddf7a",
   "metadata": {},
   "outputs": [
    {
     "data": {
      "text/plain": [
       "10"
      ]
     },
     "execution_count": 10,
     "metadata": {},
     "output_type": "execute_result"
    }
   ],
   "source": [
    "a=[1,2,3,1,2,5,6,1,6,6]\n",
    "a.count(1)\n",
    "len(a)"
   ]
  },
  {
   "cell_type": "markdown",
   "id": "92fc7b40",
   "metadata": {},
   "source": [
    "## join two lists"
   ]
  },
  {
   "cell_type": "code",
   "execution_count": 17,
   "id": "89025acf",
   "metadata": {},
   "outputs": [
    {
     "name": "stdout",
     "output_type": "stream",
     "text": [
      "[4, 6, 7, 1, 2, 3]\n"
     ]
    },
    {
     "data": {
      "text/plain": [
       "['41', '62', '73']"
      ]
     },
     "execution_count": 17,
     "metadata": {},
     "output_type": "execute_result"
    }
   ],
   "source": [
    "list1 = [4, 6, 7]\n",
    "list2 = [1, 2, 3]\n",
    "list3 = ['4', '6', '7']\n",
    "list4 = ['1','2','3']\n",
    "\n",
    "\n",
    "list3 = list1 + list2          # list1.extend(list2)\n",
    "print(list3)\n",
    "\n",
    "# this is different\n",
    "[i+j for i,j in zip(list1,list2)]\n",
    "[str(i)+str(j) for i,j in zip(list3,list4)]"
   ]
  },
  {
   "cell_type": "code",
   "execution_count": null,
   "id": "0b5f65ad",
   "metadata": {},
   "outputs": [],
   "source": []
  },
  {
   "cell_type": "markdown",
   "id": "d66fafb3",
   "metadata": {},
   "source": [
    "## .copy : the list will be copied"
   ]
  },
  {
   "cell_type": "code",
   "execution_count": 39,
   "id": "d58df7ab",
   "metadata": {},
   "outputs": [
    {
     "name": "stdout",
     "output_type": "stream",
     "text": [
      "['apple', 'banana', 'cherry']\n"
     ]
    }
   ],
   "source": [
    "thislist = [\"apple\", \"banana\", \"cherry\"]\n",
    "mylist = thislist.copy()\n",
    "print(mylist)"
   ]
  },
  {
   "cell_type": "code",
   "execution_count": 40,
   "id": "72b37410",
   "metadata": {},
   "outputs": [
    {
     "name": "stdout",
     "output_type": "stream",
     "text": [
      "['apple', 'banana', 'cherry']\n"
     ]
    }
   ],
   "source": [
    "# copy without using copy function\n",
    "thislist = [\"apple\", \"banana\", \"cherry\"]\n",
    "mylist = list(thislist)\n",
    "print(mylist)"
   ]
  },
  {
   "cell_type": "markdown",
   "id": "2f7dc167",
   "metadata": {},
   "source": [
    "## .replace\n"
   ]
  },
  {
   "cell_type": "markdown",
   "id": "2ebd977e",
   "metadata": {},
   "source": [
    "## List comprehensions :\n",
    "List comprehension offers a shorter syntax when you want to create a new list based on the values of an existing list. usually you will be using for loop and if condition but in list comprehension you use the expression, for loop and condition in a single line."
   ]
  },
  {
   "cell_type": "code",
   "execution_count": 20,
   "id": "459115f4",
   "metadata": {},
   "outputs": [
    {
     "name": "stdout",
     "output_type": "stream",
     "text": [
      "[1, 2, 3, 4, 5, 6, 7, 8, 9, 10, 11, 12, 13, 14, 15, 16, 17, 18, 19, 20, 21, 22, 23, 24, 25, 26, 27, 28, 29, 30, 31, 32, 33, 34, 35, 36, 37, 38, 39, 40, 41, 42, 43, 44, 45, 46, 47, 48, 49, 50, 51, 52, 53, 54, 55, 56, 57, 58, 59, 60, 61, 62, 63, 64, 65, 66, 67, 68, 69, 70, 71, 72, 73, 74, 75, 76, 77, 78, 79, 80, 81, 82, 83, 84, 85, 86, 87, 88, 89, 90, 91, 92, 93, 94, 95, 96, 97, 98, 99]\n",
      "[1, 2, 3, 4, 5, 6, 7, 8, 9, 10, 11, 12, 13, 14, 15, 16, 17, 18, 19, 20, 21, 22, 23, 24, 25, 26, 27, 28, 29, 30, 31, 32, 33, 34, 35, 36, 37, 38, 39, 40, 41, 42, 43, 44, 45, 46, 47, 48, 49, 50, 51, 52, 53, 54, 55, 56, 57, 58, 59, 60, 61, 62, 63, 64, 65, 66, 67, 68, 69, 70, 71, 72, 73, 74, 75, 76, 77, 78, 79, 80, 81, 82, 83, 84, 85, 86, 87, 88, 89, 90, 91, 92, 93, 94, 95, 96, 97, 98, 99]\n",
      "[2, 4, 6, 8, 10, 12, 14, 16, 18, 20, 22, 24, 26, 28, 30, 32, 34, 36, 38, 40, 42, 44, 46, 48, 50, 52, 54, 56, 58, 60, 62, 64, 66, 68, 70, 72, 74, 76, 78, 80, 82, 84, 86, 88, 90, 92, 94, 96, 98]\n"
     ]
    }
   ],
   "source": [
    "# appending a list normally\n",
    "l=[]\n",
    "for a in range(1,100):\n",
    "    l.append(a)\n",
    "print(l)\n",
    "\n",
    "# same program using list comprehension \n",
    "l=[]\n",
    "n=[i for i in range(1,100)]\n",
    "print(n)\n",
    "\n",
    "l=[]\n",
    "n=[i for i in range(1,100) if i%2==0]\n",
    "print(n)"
   ]
  },
  {
   "cell_type": "code",
   "execution_count": 23,
   "id": "b0669389",
   "metadata": {},
   "outputs": [
    {
     "name": "stdout",
     "output_type": "stream",
     "text": [
      "[2, 4, 4, 4, 8]\n",
      "[2, 4, 4]\n"
     ]
    }
   ],
   "source": [
    "b=[2,3,4,4,7]\n",
    "x=[item if(item%2==0) else item+1 for item in b]\n",
    "c=[i for i in b if (i%2==0)]\n",
    "print(x)\n",
    "print(c)"
   ]
  },
  {
   "cell_type": "markdown",
   "id": "333cd1f0",
   "metadata": {},
   "source": [
    "## loops in list"
   ]
  },
  {
   "cell_type": "markdown",
   "id": "61bb2ae0",
   "metadata": {},
   "source": [
    "## for loop"
   ]
  },
  {
   "cell_type": "code",
   "execution_count": 20,
   "id": "d4436b76",
   "metadata": {},
   "outputs": [
    {
     "name": "stdout",
     "output_type": "stream",
     "text": [
      "6\n"
     ]
    }
   ],
   "source": [
    "a=[1,2,3]\n",
    "total=0\n",
    "for x in a:\n",
    "    total+=x\n",
    "print(total)"
   ]
  },
  {
   "cell_type": "code",
   "execution_count": 39,
   "id": "0573437f",
   "metadata": {},
   "outputs": [
    {
     "name": "stdout",
     "output_type": "stream",
     "text": [
      "2\n"
     ]
    }
   ],
   "source": []
  },
  {
   "cell_type": "code",
   "execution_count": 50,
   "id": "5b2e0052",
   "metadata": {},
   "outputs": [
    {
     "data": {
      "text/plain": [
       "'C:\\\\Users\\\\Pavankumarhn'"
      ]
     },
     "execution_count": 50,
     "metadata": {},
     "output_type": "execute_result"
    }
   ],
   "source": [
    "import os\n",
    "os.getcwd()"
   ]
  },
  {
   "cell_type": "markdown",
   "id": "e5348f3f",
   "metadata": {},
   "source": [
    "# Shallow copy, Deep copy"
   ]
  },
  {
   "cell_type": "code",
   "execution_count": 3,
   "id": "57a3d2fa",
   "metadata": {},
   "outputs": [
    {
     "name": "stdout",
     "output_type": "stream",
     "text": [
      "[1, 2, 3, 4, 5]\n",
      "1608400551680\n",
      "[1, 2, 3, 4, 5, 6, 7, 8, 9]\n",
      "1608400558336\n"
     ]
    }
   ],
   "source": [
    "import copy as c\n",
    "L1= [1,2,3,4,5]\n",
    "print(L1)\n",
    "print(id(L1))\n",
    "b=c.deepcopy(L1)\n",
    "b.extend([6,7,8,9])\n",
    "print(b)\n",
    "print(id(b))\n"
   ]
  },
  {
   "cell_type": "code",
   "execution_count": 11,
   "id": "a9ea2b0e",
   "metadata": {},
   "outputs": [
    {
     "name": "stdout",
     "output_type": "stream",
     "text": [
      "[1, 2, 3, ['a', 'b'], 4, 5]\n",
      "1608400558336\n",
      "[1, 2, 3, ['a', 'b'], 4, 5, 6, 7, 8, 9]\n",
      "1608400327808\n"
     ]
    }
   ],
   "source": [
    "import copy as c\n",
    "L1= [1,2,3,['a','b'],4,5]\n",
    "print(L1)\n",
    "print(id(L1))\n",
    "b=c.copy(L1)\n",
    "b.extend([6,7,8,9])\n",
    "print(b)\n",
    "print(id(b))\n"
   ]
  },
  {
   "cell_type": "markdown",
   "id": "adb36032",
   "metadata": {},
   "source": [
    "# zip function"
   ]
  },
  {
   "cell_type": "code",
   "execution_count": 8,
   "id": "b666de14",
   "metadata": {},
   "outputs": [
    {
     "name": "stdout",
     "output_type": "stream",
     "text": [
      "1 7\n",
      "2 6\n",
      "3 8\n",
      "4 6\n",
      "5 5\n",
      "6 48\n"
     ]
    }
   ],
   "source": [
    "# iterate two lists simultaneously using zip\n",
    "a=[1,2,3,4,5,6]\n",
    "b=[7,6,8,6,5,48,7,5]\n",
    "\n",
    "for i,j in zip(a,b):\n",
    "     print(i,j)"
   ]
  },
  {
   "cell_type": "code",
   "execution_count": 13,
   "id": "cfe106ea",
   "metadata": {},
   "outputs": [
    {
     "name": "stdout",
     "output_type": "stream",
     "text": [
      "1 rose - red\n",
      "2 lily - white\n",
      "3 sunflower - yellow\n",
      "4 hibiscus - orange\n",
      "5 tulip - blue\n"
     ]
    }
   ],
   "source": [
    "Id=[1,2,3,4,5] \n",
    "flower=['rose','lily','sunflower','hibiscus','tulip']\n",
    "colour=['red','white','yellow','orange','blue']\n",
    "for i,j,k in zip(Id,flower,colour):\n",
    "    print(i,j,\"-\",k)"
   ]
  },
  {
   "cell_type": "code",
   "execution_count": 22,
   "id": "6b23a50e",
   "metadata": {},
   "outputs": [
    {
     "name": "stdout",
     "output_type": "stream",
     "text": [
      "enter the list elements[1,2,'abc']\n",
      "['[', '1', ',', '2', \"'\", 'a', 'b', 'c', ']']\n"
     ]
    }
   ],
   "source": [
    "# write a program to remove duplicates in a list\n",
    "l=list(input('enter the list elements'))\n",
    "l1=[]\n",
    "for i in l:\n",
    "    if i not in l1:\n",
    "        l1.append(i)\n",
    "print(l1)"
   ]
  },
  {
   "cell_type": "code",
   "execution_count": 8,
   "id": "950d4795",
   "metadata": {},
   "outputs": [
    {
     "name": "stdout",
     "output_type": "stream",
     "text": [
      "[1, 2, 3, 4, 5, 'apple']\n",
      "[3, 4, 5, 5]\n"
     ]
    }
   ],
   "source": [
    "l=[1,2,3,3,4,4,5,5,5,'apple']\n",
    "l1=[]\n",
    "l2=[]\n",
    "for i in l:\n",
    "    if i not in l1:\n",
    "        l1.append(i)\n",
    "    else:\n",
    "        l2.append(i)\n",
    "print(l1)\n",
    "print(l2)\n"
   ]
  },
  {
   "cell_type": "code",
   "execution_count": 11,
   "id": "878f1998",
   "metadata": {},
   "outputs": [
    {
     "name": "stdout",
     "output_type": "stream",
     "text": [
      "[1, 2, 3, 4, 5, 6, 7, 8, 9]\n"
     ]
    }
   ],
   "source": [
    "l=[[1,2,3],[4,5],[6,7,8,9]]\n",
    "l1=[]\n",
    "for i in l:\n",
    "    for j in i:\n",
    "        l1.append(j)\n",
    "print(l1)"
   ]
  },
  {
   "cell_type": "code",
   "execution_count": 36,
   "id": "5a84cef6",
   "metadata": {},
   "outputs": [
    {
     "name": "stdout",
     "output_type": "stream",
     "text": [
      "enter the list elements1,2,3,4,'apple','apple'\n",
      "(1, 2, 3, 4, 'apple', 'apple')\n",
      "[1, 2, 3, 4, 'apple']\n"
     ]
    }
   ],
   "source": [
    "l=eval(input('enter the list elements'))\n",
    "l1=[]\n",
    "for i in l:\n",
    "    if i not in l1:\n",
    "        l1.append(i)\n",
    "print(l)\n",
    "print(l1)"
   ]
  },
  {
   "cell_type": "code",
   "execution_count": 21,
   "id": "b3fafaf6",
   "metadata": {},
   "outputs": [
    {
     "name": "stdout",
     "output_type": "stream",
     "text": [
      "1 6\n",
      "2 5\n",
      "3 4\n",
      "4 3\n",
      "5 2\n",
      "6 1\n"
     ]
    }
   ],
   "source": [
    "l=[1,2,3,4,5,6,7]\n",
    "k=7\n",
    "for i in l:\n",
    "    for j in l:\n",
    "        if i+j==k:\n",
    "            print(i,j)"
   ]
  },
  {
   "cell_type": "code",
   "execution_count": 26,
   "id": "698c10d3",
   "metadata": {},
   "outputs": [
    {
     "ename": "TypeError",
     "evalue": "'int' object is not iterable",
     "output_type": "error",
     "traceback": [
      "\u001b[1;31m---------------------------------------------------------------------------\u001b[0m",
      "\u001b[1;31mTypeError\u001b[0m                                 Traceback (most recent call last)",
      "Cell \u001b[1;32mIn[26], line 4\u001b[0m\n\u001b[0;32m      2\u001b[0m l2\u001b[38;5;241m=\u001b[39m[\u001b[38;5;241m4\u001b[39m,\u001b[38;5;241m5\u001b[39m,\u001b[38;5;241m6\u001b[39m]\n\u001b[0;32m      3\u001b[0m \u001b[38;5;28;01mfor\u001b[39;00m x,y \u001b[38;5;129;01min\u001b[39;00m \u001b[38;5;28mzip\u001b[39m(l1,l2):\n\u001b[1;32m----> 4\u001b[0m     \u001b[38;5;28mprint\u001b[39m(\u001b[38;5;28;43mlist\u001b[39;49m\u001b[43m(\u001b[49m\u001b[43mx\u001b[49m\u001b[38;5;241;43m+\u001b[39;49m\u001b[43my\u001b[49m\u001b[43m)\u001b[49m)\n",
      "\u001b[1;31mTypeError\u001b[0m: 'int' object is not iterable"
     ]
    }
   ],
   "source": [
    "l1=[1,2,3]\n",
    "l2=[4,5,6]\n",
    "for x,y in zip(l1,l2):\n",
    "    \n"
   ]
  },
  {
   "cell_type": "code",
   "execution_count": null,
   "id": "1a2e6b68",
   "metadata": {},
   "outputs": [],
   "source": []
  },
  {
   "cell_type": "code",
   "execution_count": 42,
   "id": "c52ee192",
   "metadata": {},
   "outputs": [
    {
     "name": "stdout",
     "output_type": "stream",
     "text": [
      "12345'apple'\n"
     ]
    },
    {
     "ename": "SyntaxError",
     "evalue": "invalid syntax (<string>, line 1)",
     "output_type": "error",
     "traceback": [
      "Traceback \u001b[1;36m(most recent call last)\u001b[0m:\n",
      "\u001b[0m  File \u001b[0;32mC:\\ProgramData\\anaconda3\\lib\\site-packages\\IPython\\core\\interactiveshell.py:3460\u001b[0m in \u001b[0;35mrun_code\u001b[0m\n    exec(code_obj, self.user_global_ns, self.user_ns)\u001b[0m\n",
      "\u001b[1;36m  Cell \u001b[1;32mIn[42], line 1\u001b[1;36m\n\u001b[1;33m    l=eval(input())\u001b[1;36m\n",
      "\u001b[1;36m  File \u001b[1;32m<string>:1\u001b[1;36m\u001b[0m\n\u001b[1;33m    12345'apple'\u001b[0m\n\u001b[1;37m         ^\u001b[0m\n\u001b[1;31mSyntaxError\u001b[0m\u001b[1;31m:\u001b[0m invalid syntax\n"
     ]
    }
   ],
   "source": [
    "l=eval(input())\n",
    "print(l)"
   ]
  },
  {
   "cell_type": "code",
   "execution_count": 39,
   "id": "7117d040",
   "metadata": {},
   "outputs": [
    {
     "name": "stdout",
     "output_type": "stream",
     "text": [
      "[1,2,3,[1,2],4]\n",
      "[1, 2, 3, [1, 2], 4]\n"
     ]
    }
   ],
   "source": [
    "l=e(input())\n",
    "print(l)\n"
   ]
  },
  {
   "cell_type": "code",
   "execution_count": 4,
   "id": "6a7733dc",
   "metadata": {},
   "outputs": [
    {
     "name": "stdout",
     "output_type": "stream",
     "text": [
      "enter the comma seperated input1,2,3,3,3,4,4,5,5,apple,apple\n",
      "['1', '2', '3', '4', '5', 'apple']\n"
     ]
    }
   ],
   "source": [
    "x=input(\"enter the comma seperated input\")\n",
    "list1=x.split(\",\")\n",
    "l2=[]\n",
    "for i in list1:\n",
    "    if i not in l2:\n",
    "        l2.append(i)\n",
    "print(l2)\n"
   ]
  },
  {
   "cell_type": "code",
   "execution_count": 2,
   "id": "3383d1e7",
   "metadata": {},
   "outputs": [
    {
     "name": "stdout",
     "output_type": "stream",
     "text": [
      "enter the comma seperated input123,3,3,4,4,5,5,'apple','apple'\n",
      "[123, 3, 4, 5, 'apple']\n"
     ]
    }
   ],
   "source": [
    "list1=eval(input(\"enter the comma seperated input\"))\n",
    "l2=[]\n",
    "for i in list1:\n",
    "    if i not in l2:\n",
    "        l2.append(i)\n",
    "print(l2)\n"
   ]
  },
  {
   "cell_type": "code",
   "execution_count": 7,
   "id": "7db75eaf",
   "metadata": {},
   "outputs": [
    {
     "name": "stdout",
     "output_type": "stream",
     "text": [
      "enter the comma seperated input1 2 3 3 4 4 5 5 apple apple\n",
      "['1', '2', '3', '4', '5', 'apple']\n"
     ]
    }
   ],
   "source": [
    "x=input(\"enter the space seperated values\")\n",
    "list1=x.split(\" \")\n",
    "l2=[]\n",
    "for i in list1:\n",
    "    if i not in l2:\n",
    "        l2.append(i)\n",
    "print(l2)\n"
   ]
  },
  {
   "cell_type": "code",
   "execution_count": 6,
   "id": "5aeb56e4",
   "metadata": {},
   "outputs": [
    {
     "name": "stdout",
     "output_type": "stream",
     "text": [
      "4\n",
      "5\n",
      "6\n",
      "e\n",
      "w\n",
      "r\n",
      "w\n",
      "\n"
     ]
    },
    {
     "ename": "KeyboardInterrupt",
     "evalue": "Interrupted by user",
     "output_type": "error",
     "traceback": [
      "\u001b[1;31m---------------------------------------------------------------------------\u001b[0m",
      "\u001b[1;31mKeyboardInterrupt\u001b[0m                         Traceback (most recent call last)",
      "Cell \u001b[1;32mIn[6], line 3\u001b[0m\n\u001b[0;32m      1\u001b[0m my_list \u001b[38;5;241m=\u001b[39m []\n\u001b[0;32m      2\u001b[0m \u001b[38;5;28;01mwhile\u001b[39;00m \u001b[38;5;28;01mTrue\u001b[39;00m:\n\u001b[1;32m----> 3\u001b[0m     my_list\u001b[38;5;241m.\u001b[39mappend(\u001b[38;5;28;43minput\u001b[39;49m\u001b[43m(\u001b[49m\u001b[43m)\u001b[49m)\n",
      "File \u001b[1;32mC:\\ProgramData\\anaconda3\\lib\\site-packages\\ipykernel\\kernelbase.py:1175\u001b[0m, in \u001b[0;36mKernel.raw_input\u001b[1;34m(self, prompt)\u001b[0m\n\u001b[0;32m   1171\u001b[0m \u001b[38;5;28;01mif\u001b[39;00m \u001b[38;5;129;01mnot\u001b[39;00m \u001b[38;5;28mself\u001b[39m\u001b[38;5;241m.\u001b[39m_allow_stdin:\n\u001b[0;32m   1172\u001b[0m     \u001b[38;5;28;01mraise\u001b[39;00m StdinNotImplementedError(\n\u001b[0;32m   1173\u001b[0m         \u001b[38;5;124m\"\u001b[39m\u001b[38;5;124mraw_input was called, but this frontend does not support input requests.\u001b[39m\u001b[38;5;124m\"\u001b[39m\n\u001b[0;32m   1174\u001b[0m     )\n\u001b[1;32m-> 1175\u001b[0m \u001b[38;5;28;01mreturn\u001b[39;00m \u001b[38;5;28;43mself\u001b[39;49m\u001b[38;5;241;43m.\u001b[39;49m\u001b[43m_input_request\u001b[49m\u001b[43m(\u001b[49m\n\u001b[0;32m   1176\u001b[0m \u001b[43m    \u001b[49m\u001b[38;5;28;43mstr\u001b[39;49m\u001b[43m(\u001b[49m\u001b[43mprompt\u001b[49m\u001b[43m)\u001b[49m\u001b[43m,\u001b[49m\n\u001b[0;32m   1177\u001b[0m \u001b[43m    \u001b[49m\u001b[38;5;28;43mself\u001b[39;49m\u001b[38;5;241;43m.\u001b[39;49m\u001b[43m_parent_ident\u001b[49m\u001b[43m[\u001b[49m\u001b[38;5;124;43m\"\u001b[39;49m\u001b[38;5;124;43mshell\u001b[39;49m\u001b[38;5;124;43m\"\u001b[39;49m\u001b[43m]\u001b[49m\u001b[43m,\u001b[49m\n\u001b[0;32m   1178\u001b[0m \u001b[43m    \u001b[49m\u001b[38;5;28;43mself\u001b[39;49m\u001b[38;5;241;43m.\u001b[39;49m\u001b[43mget_parent\u001b[49m\u001b[43m(\u001b[49m\u001b[38;5;124;43m\"\u001b[39;49m\u001b[38;5;124;43mshell\u001b[39;49m\u001b[38;5;124;43m\"\u001b[39;49m\u001b[43m)\u001b[49m\u001b[43m,\u001b[49m\n\u001b[0;32m   1179\u001b[0m \u001b[43m    \u001b[49m\u001b[43mpassword\u001b[49m\u001b[38;5;241;43m=\u001b[39;49m\u001b[38;5;28;43;01mFalse\u001b[39;49;00m\u001b[43m,\u001b[49m\n\u001b[0;32m   1180\u001b[0m \u001b[43m\u001b[49m\u001b[43m)\u001b[49m\n",
      "File \u001b[1;32mC:\\ProgramData\\anaconda3\\lib\\site-packages\\ipykernel\\kernelbase.py:1217\u001b[0m, in \u001b[0;36mKernel._input_request\u001b[1;34m(self, prompt, ident, parent, password)\u001b[0m\n\u001b[0;32m   1214\u001b[0m             \u001b[38;5;28;01mbreak\u001b[39;00m\n\u001b[0;32m   1215\u001b[0m \u001b[38;5;28;01mexcept\u001b[39;00m \u001b[38;5;167;01mKeyboardInterrupt\u001b[39;00m:\n\u001b[0;32m   1216\u001b[0m     \u001b[38;5;66;03m# re-raise KeyboardInterrupt, to truncate traceback\u001b[39;00m\n\u001b[1;32m-> 1217\u001b[0m     \u001b[38;5;28;01mraise\u001b[39;00m \u001b[38;5;167;01mKeyboardInterrupt\u001b[39;00m(\u001b[38;5;124m\"\u001b[39m\u001b[38;5;124mInterrupted by user\u001b[39m\u001b[38;5;124m\"\u001b[39m) \u001b[38;5;28;01mfrom\u001b[39;00m \u001b[38;5;28mNone\u001b[39m\n\u001b[0;32m   1218\u001b[0m \u001b[38;5;28;01mexcept\u001b[39;00m \u001b[38;5;167;01mException\u001b[39;00m:\n\u001b[0;32m   1219\u001b[0m     \u001b[38;5;28mself\u001b[39m\u001b[38;5;241m.\u001b[39mlog\u001b[38;5;241m.\u001b[39mwarning(\u001b[38;5;124m\"\u001b[39m\u001b[38;5;124mInvalid Message:\u001b[39m\u001b[38;5;124m\"\u001b[39m, exc_info\u001b[38;5;241m=\u001b[39m\u001b[38;5;28;01mTrue\u001b[39;00m)\n",
      "\u001b[1;31mKeyboardInterrupt\u001b[0m: Interrupted by user"
     ]
    }
   ],
   "source": [
    "my_list = []\n",
    "while True:\n",
    "    my_list.append(input())"
   ]
  },
  {
   "cell_type": "code",
   "execution_count": 7,
   "id": "164d3a19",
   "metadata": {},
   "outputs": [
    {
     "name": "stdout",
     "output_type": "stream",
     "text": [
      "['4', '5', '6', 'e', 'w', 'r', 'w', '']\n"
     ]
    }
   ],
   "source": [
    "print(my_list)"
   ]
  },
  {
   "cell_type": "code",
   "execution_count": null,
   "id": "a3ecaa5d",
   "metadata": {},
   "outputs": [],
   "source": []
  },
  {
   "cell_type": "code",
   "execution_count": 2,
   "id": "023ecfe5",
   "metadata": {},
   "outputs": [
    {
     "name": "stdout",
     "output_type": "stream",
     "text": [
      "[2, 3, 5, 7]\n",
      "[7, 5, 3, 2]\n"
     ]
    },
    {
     "data": {
      "text/plain": [
       "[(5, 7), (4, 5), (2, 3), (1, 2)]"
      ]
     },
     "execution_count": 2,
     "metadata": {},
     "output_type": "execute_result"
    }
   ],
   "source": [
    "x = [(1,2),(2,3),(4,5),(5,7)]\n",
    "n = []\n",
    "for i in x:\n",
    "    n.append(i[-1])\n",
    "        \n",
    "print(n)\n",
    "temp=\"\"\n",
    "for i in range(len(n)):\n",
    "    for j in range(len(n)):\n",
    "        if n[i]>n[j]:\n",
    "            temp=n[i]\n",
    "            n[i]=n[j]\n",
    "            n[j]=temp\n",
    "    \n",
    "print(n)\n",
    "new=[]\n",
    "for j in n:\n",
    "    for i in x:\n",
    "        if( i[-1] == j):\n",
    "            new.append(i)\n",
    "new"
   ]
  },
  {
   "cell_type": "code",
   "execution_count": null,
   "id": "531ae3a1",
   "metadata": {},
   "outputs": [],
   "source": []
  }
 ],
 "metadata": {
  "kernelspec": {
   "display_name": "Python 3 (ipykernel)",
   "language": "python",
   "name": "python3"
  },
  "language_info": {
   "codemirror_mode": {
    "name": "ipython",
    "version": 3
   },
   "file_extension": ".py",
   "mimetype": "text/x-python",
   "name": "python",
   "nbconvert_exporter": "python",
   "pygments_lexer": "ipython3",
   "version": "3.10.9"
  }
 },
 "nbformat": 4,
 "nbformat_minor": 5
}
